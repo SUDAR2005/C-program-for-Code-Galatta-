{
  "cells": [
    {
      "cell_type": "markdown",
      "metadata": {
        "id": "view-in-github",
        "colab_type": "text"
      },
      "source": [
        "<a href=\"https://colab.research.google.com/github/SUDAR2005/C-program-for-Code-Galatta-/blob/main/pokemon_face_app.ipynb\" target=\"_parent\"><img src=\"https://colab.research.google.com/assets/colab-badge.svg\" alt=\"Open In Colab\"/></a>"
      ]
    },
    {
      "cell_type": "code",
      "execution_count": null,
      "metadata": {
        "colab": {
          "base_uri": "https://localhost:8080/"
        },
        "id": "gmbMB-eeEANz",
        "outputId": "005f6665-3d44-4014-b08a-3778362d1660"
      },
      "outputs": [
        {
          "name": "stdout",
          "output_type": "stream",
          "text": [
            "Mounted at /content/drive\n"
          ]
        }
      ],
      "source": [
        "from google.colab import drive\n",
        "drive.mount('/content/drive',True)"
      ]
    },
    {
      "cell_type": "code",
      "execution_count": null,
      "metadata": {
        "id": "PzBTRXR5zL5N"
      },
      "outputs": [],
      "source": [
        "import tensorflow as tf\n",
        "from tensorflow.keras import layers, models\n",
        "from tensorflow.keras.preprocessing import image\n",
        "from tensorflow.keras.applications.vgg16 import preprocess_input\n",
        "import numpy as np"
      ]
    },
    {
      "cell_type": "code",
      "execution_count": null,
      "metadata": {
        "id": "I2bdcILYzcAO"
      },
      "outputs": [],
      "source": [
        "def train_model(data_dir, img_width=224, img_height=224, batch_size=32, epochs=10):\n",
        "    datagen = tf.keras.preprocessing.image.ImageDataGenerator(rescale=1./255)\n",
        "\n",
        "    train_generator = datagen.flow_from_directory(\n",
        "        data_dir,\n",
        "        target_size=(img_width, img_height),\n",
        "        batch_size=batch_size,\n",
        "        class_mode='categorical'\n",
        "    )\n",
        "\n",
        "    model = models.Sequential()\n",
        "    model.add(layers.Conv2D(32, (3, 3), activation='relu', input_shape=(img_width, img_height, 3)))\n",
        "    model.add(layers.MaxPooling2D((2, 2)))\n",
        "    model.add(layers.Conv2D(64, (3, 3), activation='relu'))\n",
        "    model.add(layers.MaxPooling2D((2, 2)))\n",
        "    model.add(layers.Conv2D(128, (3, 3), activation='relu'))\n",
        "    model.add(layers.MaxPooling2D((2, 2)))\n",
        "    model.add(layers.Flatten())\n",
        "    model.add(layers.Dense(256, activation='relu'))\n",
        "    model.add(layers.Dense(train_generator.num_classes, activation='softmax'))\n",
        "\n",
        "    model.compile(optimizer='adam', loss='categorical_crossentropy', metrics=['accuracy'])\n",
        "\n",
        "    model.fit(\n",
        "        train_generator,\n",
        "        steps_per_epoch=train_generator.samples // batch_size,\n",
        "        epochs=epochs\n",
        "    )\n",
        "\n",
        "    model.save('./model/pokemon_model.h5')\n",
        "train_model('./pokemon_dataset')\n"
      ]
    },
    {
      "cell_type": "code",
      "execution_count": null,
      "metadata": {
        "colab": {
          "background_save": true,
          "base_uri": "https://localhost:8080/"
        },
        "id": "0sG6MHOtzgHc",
        "outputId": "f1b253cb-036b-438b-ceec-ab1353b47c67"
      },
      "outputs": [
        {
          "name": "stdout",
          "output_type": "stream",
          "text": [
            "Found 2513 images belonging to 898 classes.\n",
            "Epoch 1/10\n",
            "78/78 [==============================] - 850s 11s/step - loss: 6.8652 - accuracy: 0.0024\n",
            "Epoch 2/10\n",
            "78/78 [==============================] - 282s 4s/step - loss: 6.8007 - accuracy: 0.0036\n",
            "Epoch 3/10\n",
            "78/78 [==============================] - 281s 4s/step - loss: 6.7142 - accuracy: 0.0129\n",
            "Epoch 4/10\n",
            "78/78 [==============================] - 287s 4s/step - loss: 5.6989 - accuracy: 0.1108\n",
            "Epoch 5/10\n",
            "78/78 [==============================] - 282s 4s/step - loss: 1.9522 - accuracy: 0.6260\n",
            "Epoch 6/10\n",
            "78/78 [==============================] - 278s 4s/step - loss: 0.2741 - accuracy: 0.9436\n",
            "Epoch 7/10\n",
            "78/78 [==============================] - 287s 4s/step - loss: 0.0542 - accuracy: 0.9891\n",
            "Epoch 8/10\n",
            "78/78 [==============================] - 284s 4s/step - loss: 0.0193 - accuracy: 0.9988\n",
            "Epoch 9/10\n",
            "78/78 [==============================] - 284s 4s/step - loss: 0.0324 - accuracy: 0.9972\n",
            "Epoch 10/10\n",
            "78/78 [==============================] - 288s 4s/step - loss: 0.0083 - accuracy: 0.9992\n"
          ]
        },
        {
          "name": "stderr",
          "output_type": "stream",
          "text": [
            "/usr/local/lib/python3.10/dist-packages/keras/src/engine/training.py:3103: UserWarning: You are saving your model as an HDF5 file via `model.save()`. This file format is considered legacy. We recommend using instead the native Keras format, e.g. `model.save('my_model.keras')`.\n",
            "  saving_api.save_model(\n"
          ]
        },
        {
          "name": "stdout",
          "output_type": "stream",
          "text": [
            "1/1 [==============================] - 0s 158ms/step\n",
            "Predicted Pokemon: Kabuto\n",
            "Text Output: Find your Pokemon\n"
          ]
        }
      ],
      "source": [
        "import os\n",
        "import numpy as np\n",
        "from tensorflow.keras.preprocessing import image\n",
        "from tensorflow.keras.applications.mobilenet import preprocess_input\n",
        "from tensorflow.keras import models\n",
        "\n",
        "def predict_pokemon(user_photo_path, model_path='./model/pokemon_model.h5'):\n",
        "    img = image.load_img(user_photo_path, target_size=(224, 224))\n",
        "    img_array = image.img_to_array(img)\n",
        "    img_array = np.expand_dims(img_array, axis=0)\n",
        "    img_array = preprocess_input(img_array)\n",
        "\n",
        "    trained_model = models.load_model(model_path)\n",
        "\n",
        "    predictions = trained_model.predict(img_array)\n",
        "    predicted_class = np.argmax(predictions[0])\n",
        "\n",
        "    subfolders = sorted(os.listdir('./pokemon_dataset'))\n",
        "    pokemon_mapping = {i: subfolder for i, subfolder in enumerate(subfolders)}\n",
        "\n",
        "    predicted_pokemon = pokemon_mapping[predicted_class]\n",
        "\n",
        "    text_output = \"Find your Pokemon\"\n",
        "\n",
        "    return predicted_pokemon, text_output\n",
        "user_photo_path = '/content/drive/MyDrive/hariharanvj.jpg'\n",
        "predicted_pokemon, text_output = predict_pokemon(user_photo_path)\n",
        "print(\"Text Output:\", text_output)\n",
        "print(\"Predicted Pokemon:\", predicted_pokemon)\n"
      ]
    }
  ],
  "metadata": {
    "accelerator": "GPU",
    "colab": {
      "gpuType": "T4",
      "provenance": [],
      "include_colab_link": true
    },
    "kernelspec": {
      "display_name": "Python 3",
      "name": "python3"
    },
    "language_info": {
      "name": "python"
    }
  },
  "nbformat": 4,
  "nbformat_minor": 0
}